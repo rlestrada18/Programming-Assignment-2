{
 "cells": [
  {
   "cell_type": "markdown",
   "id": "aea76d29-144f-474b-9ae3-0691e49d9315",
   "metadata": {},
   "source": [
    "# NORMALIZATION PROBLEM"
   ]
  },
  {
   "cell_type": "code",
   "execution_count": 8,
   "id": "2018d38a-8821-4b59-a9e5-a713b006ef36",
   "metadata": {},
   "outputs": [
    {
     "name": "stdout",
     "output_type": "stream",
     "text": [
      "Original Array (X):\n",
      " [[0.94621708 0.17849886 0.90645998 0.61271652 0.82153426]\n",
      " [0.62985671 0.56693455 0.82244617 0.36914241 0.94123483]\n",
      " [0.06790169 0.2596271  0.52459722 0.8019553  0.31717034]\n",
      " [0.18681462 0.6450093  0.61977529 0.90374272 0.27556631]\n",
      " [0.98684195 0.73998256 0.16184843 0.88021299 0.43002871]]\n",
      "\n",
      "Mean: 0.5838446355836373\n",
      "Standard Deviation: 0.28426012596867334\n",
      "\n",
      "Normalized Array (X_normalized):\n",
      " [[ 1.2747917  -1.42596777  1.13492999  0.10156853  0.83616941]\n",
      " [ 0.16186609 -0.05948807  0.83937743 -0.75530196  1.25726459]\n",
      " [-1.81503805 -1.14056636 -0.20842676  0.76729252 -0.93813472]\n",
      " [-1.39671372  0.21517144  0.12640062  1.12537094 -1.08449373]\n",
      " [ 1.41770611  0.54927833 -1.48454239  1.0425956  -0.54110974]]\n"
     ]
    }
   ],
   "source": [
    "import numpy as np\n",
    "\n",
    "X = np.random.rand(5, 5)\n",
    "\n",
    "mean = X.mean()\n",
    "std = X.std()\n",
    "\n",
    "X_normalized = (X - mean) / std\n",
    "\n",
    "np.save(\"X_normalized.npy\", X_normalized)\n",
    "\n",
    "print(\"Original Array (X):\\n\", X)\n",
    "print(\"\\nMean:\", mean)\n",
    "print(\"Standard Deviation:\", std)\n",
    "print(\"\\nNormalized Array (X_normalized):\\n\", X_normalized)"
   ]
  },
  {
   "cell_type": "markdown",
   "id": "00880c91-1dc3-40f1-99b2-2047302a28b4",
   "metadata": {},
   "source": [
    "# DIVISIBLE BY 3 PROBLEM"
   ]
  },
  {
   "cell_type": "code",
   "execution_count": 10,
   "id": "7afc470a-b544-4513-b4cd-a7a1df6ab12f",
   "metadata": {},
   "outputs": [
    {
     "name": "stdout",
     "output_type": "stream",
     "text": [
      "10x10 ndarray of squares: \n",
      " [[    1     4     9    16    25    36    49    64    81   100]\n",
      " [  121   144   169   196   225   256   289   324   361   400]\n",
      " [  441   484   529   576   625   676   729   784   841   900]\n",
      " [  961  1024  1089  1156  1225  1296  1369  1444  1521  1600]\n",
      " [ 1681  1764  1849  1936  2025  2116  2209  2304  2401  2500]\n",
      " [ 2601  2704  2809  2916  3025  3136  3249  3364  3481  3600]\n",
      " [ 3721  3844  3969  4096  4225  4356  4489  4624  4761  4900]\n",
      " [ 5041  5184  5329  5476  5625  5776  5929  6084  6241  6400]\n",
      " [ 6561  6724  6889  7056  7225  7396  7569  7744  7921  8100]\n",
      " [ 8281  8464  8649  8836  9025  9216  9409  9604  9801 10000]]\n",
      "\n",
      "Elements divisible by 3:\n",
      " [   9   36   81  144  225  324  441  576  729  900 1089 1296 1521 1764\n",
      " 2025 2304 2601 2916 3249 3600 3969 4356 4761 5184 5625 6084 6561 7056\n",
      " 7569 8100 8649 9216 9801]\n"
     ]
    }
   ],
   "source": [
    "import numpy as np\n",
    "\n",
    "squares = np.arange(1, 101) ** 2\n",
    "\n",
    "A = squares.reshape(10, 10)\n",
    "\n",
    "div_by_3 = A[A % 3 == 0]\n",
    "\n",
    "np.save(\"div_by_3.npy\", div_by_3)\n",
    "\n",
    "print(\"10x10 ndarray of squares: \\n\", A)\n",
    "print(\"\\nElements divisible by 3:\\n\", div_by_3)"
   ]
  },
  {
   "cell_type": "code",
   "execution_count": null,
   "id": "9dbef4aa-1b97-441f-bf33-6be2c2133812",
   "metadata": {},
   "outputs": [],
   "source": []
  }
 ],
 "metadata": {
  "kernelspec": {
   "display_name": "Python [conda env:base] *",
   "language": "python",
   "name": "conda-base-py"
  },
  "language_info": {
   "codemirror_mode": {
    "name": "ipython",
    "version": 3
   },
   "file_extension": ".py",
   "mimetype": "text/x-python",
   "name": "python",
   "nbconvert_exporter": "python",
   "pygments_lexer": "ipython3",
   "version": "3.13.5"
  }
 },
 "nbformat": 4,
 "nbformat_minor": 5
}
